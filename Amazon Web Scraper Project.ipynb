{
 "cells": [
  {
   "cell_type": "code",
   "execution_count": 1,
   "id": "2e2c984b-acfa-4213-824e-bf05a0feef4b",
   "metadata": {},
   "outputs": [],
   "source": [
    "# import libraries \n",
    "\n",
    "from bs4 import BeautifulSoup\n",
    "import requests\n",
    "import time\n",
    "import datetime\n",
    "\n",
    "import smtplib"
   ]
  },
  {
   "cell_type": "code",
   "execution_count": 75,
   "id": "7c5760a5-4ce0-43e7-bfc1-4d481629b557",
   "metadata": {},
   "outputs": [
    {
     "name": "stdout",
     "output_type": "stream",
     "text": [
      "\n",
      "                    Got Data Funny Business Data Analyst T-Shirt\n",
      "                   \n",
      "$15.99\n"
     ]
    }
   ],
   "source": [
    "#Fetch a webpage using a simulated browser environment.\n",
    "#Inspect response headers, which provide information about the server, content type, encoding, and other metadata.\n",
    "URL = 'https://www.amazon.com/Funny-Data-Systems-Business-Analyst/dp/B07FNW9FGJ/ref=sr_1_3?dchild=1&keywords=data%2Banalyst%2Btshirt&qid=1626655184&sr=8-3&customId=B0752XJYNL&th=1'\n",
    "\n",
    "headers = {\"User-Agent\": \"Mozilla/5.0 (Windows NT 10.0; Win64; x64) AppleWebKit/537.36 (KHTML, like Gecko) Chrome/131.0.0.0 Safari/537.36\", \"Accept-Encoding\":\"gzip, deflate\", \"Accept\":\"text/html,application/xhtml+xml,application/xml;q=0.9,*/*;q=0.8\", \"DNT\":\"1\",\"Connection\":\"close\", \"Upgrade-Insecure-Requests\":\"1\"}\n",
    "page = requests.get(URL,headers=headers)# Sends a GET request to a specific Web page, custom header is being passed to stimulate a web requet \n",
    "\n",
    "\n",
    "soup1 =BeautifulSoup(page.content,\"html.parser\")\n",
    "\n",
    "soup2 = BeautifulSoup(soup1.prettify(), \"html.parser\")#prettify is used to well-structure the raw parsed data form the html or xml\n",
    "\n",
    "title = soup2.find(id='productTitle').get_text()#getting the title of the product from the web by giving the id to it.\n",
    "\n",
    "#pulling the price value from the web using class/ID from the HTML\n",
    "price1 = soup2.find(class_='a-price-symbol').get_text(strip=True)\n",
    "price2 = soup2.find(class_='a-price-whole').get_text(strip=True)\n",
    "price3 = soup2.find(class_='a-price-fraction').get_text(strip=True)\n",
    "price4 = soup2.find(class_='aok-offscreen').get_text(strip=True)# another way to get the price \n",
    "price = f'{price1}{price2}{price3}'\n",
    "\n",
    "print(title)\n",
    "print(price)\n",
    "#print(title)\n",
    "\n",
    "\n",
    "\n"
   ]
  },
  {
   "cell_type": "code",
   "execution_count": 77,
   "id": "a72c2e91-1e8b-4184-9304-38ffacf8d959",
   "metadata": {},
   "outputs": [
    {
     "name": "stdout",
     "output_type": "stream",
     "text": [
      "Got Data Funny Business Data Analyst T-Shirt\n",
      "15.99\n"
     ]
    }
   ],
   "source": [
    "#to remove any spaces in the leading and trialing. also removes any characters we want to remove.\n",
    "price = price.strip('$')\n",
    "title = title.strip()\n",
    "print(title)\n",
    "print(price)"
   ]
  },
  {
   "cell_type": "code",
   "execution_count": 107,
   "id": "a55c58ec-a82f-4850-8ba8-51d7ac6a8cf2",
   "metadata": {},
   "outputs": [
    {
     "name": "stdout",
     "output_type": "stream",
     "text": [
      "2025-01-19\n"
     ]
    }
   ],
   "source": [
    "import datetime\n",
    "today = datetime.date.today()\n",
    "print(today)"
   ]
  },
  {
   "cell_type": "code",
   "execution_count": 111,
   "id": "1845f008-30ad-45f6-885d-abcf6a3431ff",
   "metadata": {},
   "outputs": [],
   "source": [
    "#writing the data into CSV File \n",
    "import  csv\n",
    "\n",
    "header =['Title', 'Price', 'Date'] # defininf the values into headers anf data\n",
    "data = [title,price, today]\n",
    "\n",
    "filename = 'amazonwebscrapper.csv'\n",
    "\n",
    "# It needs to run only once. To make sure to not run this again commenting this out. IF we run this again the prev data in cvs file will erase\n",
    "#with open(filename,'w', newline='',encoding='UTF8') as file: # open the file \n",
    "    #writer = csv.writer(file) # write the data into the file\n",
    "   # writer.writerow(header)\n",
    "   # writer.writerow(data)\n",
    "    \n",
    "    \n"
   ]
  },
  {
   "cell_type": "code",
   "execution_count": 125,
   "id": "b272b089-9241-4a33-a8ae-641a0409f416",
   "metadata": {},
   "outputs": [
    {
     "name": "stdout",
     "output_type": "stream",
     "text": [
      "                                          Title  Price        Date\n",
      "0  Got Data Funny Business Data Analyst T-Shirt  15.99  2025-01-19\n",
      "1  Got Data Funny Business Data Analyst T-Shirt  15.99  2025-01-19\n",
      "2  Got Data Funny Business Data Analyst T-Shirt  15.99  2025-01-19\n",
      "3  Got Data Funny Business Data Analyst T-Shirt  15.99  2025-01-19\n",
      "4  Got Data Funny Business Data Analyst T-Shirt  15.99  2025-01-19\n"
     ]
    }
   ],
   "source": [
    "import pandas as pd\n",
    "df = pd.read_csv(r\"C:\\Users\\chait\\amazonwebscrapper.csv\")\n",
    "print(df)"
   ]
  },
  {
   "cell_type": "code",
   "execution_count": 123,
   "id": "f4cdf8ab-a734-48d0-9024-adbf12540ef5",
   "metadata": {},
   "outputs": [],
   "source": [
    "#appending data to the CSV\n",
    "with open(filename,'a+', newline='',encoding='UTF8') as file: # open the file, using mode as 'a+' for appending\n",
    "    writer = csv.writer(file) # write the data into the file\n",
    "    writer.writerow(data)"
   ]
  },
  {
   "cell_type": "code",
   "execution_count": 135,
   "id": "124571d3-0afa-46a9-a8fa-fc6916839342",
   "metadata": {},
   "outputs": [],
   "source": [
    "#defining a function to automate the whole process\n",
    "def check_values():\n",
    "    URL = 'https://www.amazon.com/Funny-Data-Systems-Business-Analyst/dp/B07FNW9FGJ/ref=sr_1_3?dchild=1&keywords=data%2Banalyst%2Btshirt&qid=1626655184&sr=8-3&customId=B0752XJYNL&th=1'\n",
    "    headers = {\"User-Agent\": \"Mozilla/5.0 (Windows NT 10.0; Win64; x64) AppleWebKit/537.36 (KHTML, like Gecko) Chrome/131.0.0.0 Safari/537.36\", \"Accept-Encoding\":\"gzip, deflate\", \"Accept\":\"text/html,application/xhtml+xml,application/xml;q=0.9,*/*;q=0.8\", \"DNT\":\"1\",\"Connection\":\"close\", \"Upgrade-Insecure-Requests\":\"1\"}\n",
    "    page = requests.get(URL,headers=headers)# Sends a GET request to a specific Web page, custom header is being passed to stimulate a web requet \n",
    "    soup1 =BeautifulSoup(page.content,\"html.parser\")\n",
    "    soup2 = BeautifulSoup(soup1.prettify(), \"html.parser\")#prettify is used to well-structure the raw parsed data form the html or xml\n",
    "    title = soup2.find(id='productTitle').get_text()#getting the title of the product from the web by giving the id to it.\n",
    "    #pulling the price value from the web using class/ID from the HTML\n",
    "    price1 = soup2.find(class_='a-price-symbol').get_text(strip=True)\n",
    "    price2 = soup2.find(class_='a-price-whole').get_text(strip=True)\n",
    "    price3 = soup2.find(class_='a-price-fraction').get_text(strip=True) \n",
    "    price = f'{price1}{price2}{price3}'\n",
    "    price = price.strip('$')\n",
    "    title = title.strip()\n",
    "    import datetime\n",
    "    today = datetime.date.today()\n",
    "    #importing the vallues into CSV file\n",
    "    import  csv\n",
    "    header =['Title', 'Price', 'Date'] # defininf the values into headers anf data\n",
    "    data = [title,price, today]\n",
    "    filename = 'amazonwebscrapper.csv'\n",
    "    with open(filename,'a+', newline='',encoding='UTF8') as file: # open the file \n",
    "        writer = csv.writer(file) # write the data into the file\n",
    "        writer.writerow(header)\n",
    "        writer.writerow(data)\n",
    "    #if (price < 10):\n",
    "       # send_mail()"
   ]
  },
  {
   "cell_type": "code",
   "execution_count": 137,
   "id": "3ee86105-e6de-4a6d-ba30-a68921574e43",
   "metadata": {},
   "outputs": [
    {
     "ename": "KeyboardInterrupt",
     "evalue": "",
     "output_type": "error",
     "traceback": [
      "\u001b[1;31m---------------------------------------------------------------------------\u001b[0m",
      "\u001b[1;31mKeyboardInterrupt\u001b[0m                         Traceback (most recent call last)",
      "Cell \u001b[1;32mIn[137], line 3\u001b[0m\n\u001b[0;32m      1\u001b[0m \u001b[38;5;28;01mwhile\u001b[39;00m(\u001b[38;5;28;01mTrue\u001b[39;00m):\n\u001b[0;32m      2\u001b[0m     check_values()\n\u001b[1;32m----> 3\u001b[0m     time\u001b[38;5;241m.\u001b[39msleep(\u001b[38;5;241m5\u001b[39m)\n",
      "\u001b[1;31mKeyboardInterrupt\u001b[0m: "
     ]
    }
   ],
   "source": [
    "while(True):\n",
    "    check_values()\n",
    "    time.sleep(5)"
   ]
  },
  {
   "cell_type": "code",
   "execution_count": 139,
   "id": "87168d04-9201-4e6c-a558-fa337f655882",
   "metadata": {},
   "outputs": [
    {
     "name": "stdout",
     "output_type": "stream",
     "text": [
      "                                          Title  Price        Date\n",
      "0  Got Data Funny Business Data Analyst T-Shirt  15.99  2025-01-19\n",
      "1                                         Title  Price        Date\n",
      "2  Got Data Funny Business Data Analyst T-Shirt  15.99  2025-01-19\n",
      "3                                         Title  Price        Date\n",
      "4  Got Data Funny Business Data Analyst T-Shirt  15.99  2025-01-19\n",
      "5                                         Title  Price        Date\n",
      "6  Got Data Funny Business Data Analyst T-Shirt  15.99  2025-01-19\n"
     ]
    }
   ],
   "source": [
    "import pandas as pd\n",
    "df = pd.read_csv(r\"C:\\Users\\chait\\amazonwebscrapper.csv\")\n",
    "print(df)"
   ]
  },
  {
   "cell_type": "code",
   "execution_count": null,
   "id": "35633725-21bb-4446-a840-248dcc465338",
   "metadata": {},
   "outputs": [],
   "source": [
    "\n",
    "#defeining a function to send an email.\n",
    "def send_email():\n",
    "    server = smtplib.SMTP_SSL('smtp.gmail.com',465)\n",
    "    server.ehlo()\n",
    "    server.login('sasivardhansangati7@gmail.com','Sasivardhan@7')\n",
    "    subject = 'The shirt price has dropped!'\n",
    "    body = \" Hey! Sasi, This is the what you have been waiting for. Go and grab the deal before it slips away\"\n",
    "    msg= f\"subject:{subject}\\n\\n{body}\"\n",
    "    server.sendmail('sasivardhansangati7@gmail.com', msg)"
   ]
  }
 ],
 "metadata": {
  "kernelspec": {
   "display_name": "Python [conda env:base] *",
   "language": "python",
   "name": "conda-base-py"
  },
  "language_info": {
   "codemirror_mode": {
    "name": "ipython",
    "version": 3
   },
   "file_extension": ".py",
   "mimetype": "text/x-python",
   "name": "python",
   "nbconvert_exporter": "python",
   "pygments_lexer": "ipython3",
   "version": "3.12.7"
  }
 },
 "nbformat": 4,
 "nbformat_minor": 5
}
